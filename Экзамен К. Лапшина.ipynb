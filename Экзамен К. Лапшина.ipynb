{
 "cells": [
  {
   "cell_type": "markdown",
   "metadata": {},
   "source": [
    "Вариант 4: Дан код на языке Python, выравнивание в котором выполнено при помощи пробелов, все операторы записаны в одну строку, классы не используются. Представьте этот код в виде дерева по следующему алгоритму. Корнем дерева является фиктивная вершина. Все строки кода с одинаковым отступом являются вершинами одного уровня. Родителем строки является последняя перед ней строка с уровнем отступа на один меньше, при этом считается не число пробелов, а факт увеличения их количества. Потомки идут в том порядке, в котором они записаны в файле.\n",
    "\n",
    "По заданному имени функции проверьте, является ли данная функция рекурсивной. В общем случае, условные конструкции, циклы и проч. не могут препятствовать вызову функции."
   ]
  },
  {
   "cell_type": "code",
   "execution_count": 121,
   "metadata": {},
   "outputs": [],
   "source": [
    "code = '''\n",
    "def selecting(filename):\n",
    "    with open (filename, encoding = 'utf-8') as file:\n",
    "        out = []\n",
    "        lines = file.readlines()\n",
    "        for line in lines:\n",
    "            name, lastname, age = line.split('-*ŋ*-')\n",
    "            if int(age) in range (15, 67):\n",
    "                item = (name, lastname, age)\n",
    "                out.append(item)\n",
    "        return out\n",
    "def aver_(out):\n",
    "    out2 = []\n",
    "    for cort in out:\n",
    "        name = cort[0]\n",
    "        last = cort[1]\n",
    "        age = cort[2]\n",
    "        name_len = 0\n",
    "        last_len = 0\n",
    "        for i in name:\n",
    "            name_len += 1\n",
    "        for i in last:\n",
    "            last_len += 1\n",
    "        aver = (name_len + last_len) / 2\n",
    "        item2 = (aver, name, last, age)\n",
    "        out2.append(item2)\n",
    "    return out2\n",
    "def main():\n",
    "    filename = 'names ages.txt'\n",
    "    rez1 = selecting(filename)\n",
    "    print(rez1)\n",
    "    rez2 = aver_(rez1)\n",
    "    print(rez2)\n",
    "if __name__ == '__main__':\n",
    "    main()\n",
    "'''"
   ]
  },
  {
   "cell_type": "markdown",
   "metadata": {},
   "source": [
    "План\n",
    "\n",
    "1. отформатировать код, разбить на строки"
   ]
  },
  {
   "cell_type": "code",
   "execution_count": 122,
   "metadata": {},
   "outputs": [
    {
     "data": {
      "text/plain": [
       "['def selecting(filename):\\n',\n",
       " \"    with open (filename, encoding = 'utf-8') as file:\\n\",\n",
       " '        out = []\\n',\n",
       " '        lines = file.readlines()\\n',\n",
       " '        for line in lines:\\n',\n",
       " \"            name, lastname, age = line.split('-*ŋ*-')\\n\",\n",
       " '            if int(age) in range (15, 67):\\n',\n",
       " '                item = (name, lastname, age)\\n',\n",
       " '                out.append(item)\\n',\n",
       " '        return out\\n',\n",
       " 'def aver_(out):\\n',\n",
       " '    out2 = []\\n',\n",
       " '    for cort in out:\\n',\n",
       " '        name = cort[0]\\n',\n",
       " '        last = cort[1]\\n',\n",
       " '        age = cort[2]\\n',\n",
       " '        name_len = 0\\n',\n",
       " '        last_len = 0\\n',\n",
       " '        for i in name:\\n',\n",
       " '            name_len += 1\\n',\n",
       " '        for i in last:\\n',\n",
       " '            last_len += 1\\n',\n",
       " '        aver = (name_len + last_len) / 2\\n',\n",
       " '        item2 = (aver, name, last, age)\\n',\n",
       " '        out2.append(item2)\\n',\n",
       " '    return out2\\n',\n",
       " 'def main():\\n',\n",
       " \"    filename = 'names ages.txt'\\n\",\n",
       " '    rez1 = selecting(filename)\\n',\n",
       " '    print(rez1)\\n',\n",
       " '    rez2 = aver_(rez1)\\n',\n",
       " '    print(rez2)\\n',\n",
       " \"if __name__ == '__main__':\\n\",\n",
       " '    main()\\n']"
      ]
     },
     "execution_count": 122,
     "metadata": {},
     "output_type": "execute_result"
    }
   ],
   "source": [
    "import re\n",
    "\n",
    "line_list = re.findall('.+?\\n', code)\n",
    "line_list"
   ]
  },
  {
   "cell_type": "markdown",
   "metadata": {},
   "source": [
    "2. создание графа"
   ]
  },
  {
   "cell_type": "markdown",
   "metadata": {},
   "source": [
    "создаём словарь вершина: {потомки}\n",
    "\n",
    "сначала фиксируем числа пробелов в начале"
   ]
  },
  {
   "cell_type": "code",
   "execution_count": 123,
   "metadata": {},
   "outputs": [],
   "source": [
    "def space_counting(line):\n",
    "    res = re.search('\\s+', line)\n",
    "    if res:\n",
    "        space_count = len(res.group())\n",
    "    return space_count   "
   ]
  },
  {
   "cell_type": "code",
   "execution_count": 124,
   "metadata": {},
   "outputs": [
    {
     "name": "stdout",
     "output_type": "stream",
     "text": [
      "1\n",
      "4\n",
      "8\n",
      "8\n",
      "8\n",
      "12\n",
      "12\n",
      "16\n",
      "16\n",
      "8\n",
      "1\n",
      "4\n",
      "4\n",
      "8\n",
      "8\n",
      "8\n",
      "8\n",
      "8\n",
      "8\n",
      "12\n",
      "8\n",
      "12\n",
      "8\n",
      "8\n",
      "8\n",
      "4\n",
      "1\n",
      "4\n",
      "4\n",
      "4\n",
      "4\n",
      "4\n",
      "1\n",
      "4\n"
     ]
    }
   ],
   "source": [
    "for line in line_list:\n",
    "    print(space_counting(line))"
   ]
  },
  {
   "cell_type": "code",
   "execution_count": 127,
   "metadata": {},
   "outputs": [],
   "source": [
    " def make_tree(lines, tree):\n",
    "    for i in range(1, len(lines)):\n",
    "        for j in range(i, 0, -1):\n",
    "            if space_counting(lines[i]) > space_counting(lines[j]):\n",
    "                if not lines[j] in tree:\n",
    "                    tree[lines[j]] = {}\n",
    "                tree[lines[j]][lines[i]] = {}\n",
    "    return tree"
   ]
  },
  {
   "cell_type": "code",
   "execution_count": 130,
   "metadata": {},
   "outputs": [
    {
     "data": {
      "text/plain": [
       "{\"    with open (filename, encoding = 'utf-8') as file:\\n\": {'        out = []\\n': {},\n",
       "  '        lines = file.readlines()\\n': {},\n",
       "  '        for line in lines:\\n': {},\n",
       "  \"            name, lastname, age = line.split('-*ŋ*-')\\n\": {},\n",
       "  '            if int(age) in range (15, 67):\\n': {},\n",
       "  '                item = (name, lastname, age)\\n': {},\n",
       "  '                out.append(item)\\n': {},\n",
       "  '        return out\\n': {},\n",
       "  '        name = cort[0]\\n': {},\n",
       "  '        last = cort[1]\\n': {},\n",
       "  '        age = cort[2]\\n': {},\n",
       "  '        name_len = 0\\n': {},\n",
       "  '        last_len = 0\\n': {},\n",
       "  '        for i in name:\\n': {},\n",
       "  '            name_len += 1\\n': {},\n",
       "  '        for i in last:\\n': {},\n",
       "  '            last_len += 1\\n': {},\n",
       "  '        aver = (name_len + last_len) / 2\\n': {},\n",
       "  '        item2 = (aver, name, last, age)\\n': {},\n",
       "  '        out2.append(item2)\\n': {}},\n",
       " '        for line in lines:\\n': {\"            name, lastname, age = line.split('-*ŋ*-')\\n\": {},\n",
       "  '            if int(age) in range (15, 67):\\n': {},\n",
       "  '                item = (name, lastname, age)\\n': {},\n",
       "  '                out.append(item)\\n': {},\n",
       "  '            name_len += 1\\n': {},\n",
       "  '            last_len += 1\\n': {}},\n",
       " '        lines = file.readlines()\\n': {\"            name, lastname, age = line.split('-*ŋ*-')\\n\": {},\n",
       "  '            if int(age) in range (15, 67):\\n': {},\n",
       "  '                item = (name, lastname, age)\\n': {},\n",
       "  '                out.append(item)\\n': {},\n",
       "  '            name_len += 1\\n': {},\n",
       "  '            last_len += 1\\n': {}},\n",
       " '        out = []\\n': {\"            name, lastname, age = line.split('-*ŋ*-')\\n\": {},\n",
       "  '            if int(age) in range (15, 67):\\n': {},\n",
       "  '                item = (name, lastname, age)\\n': {},\n",
       "  '                out.append(item)\\n': {},\n",
       "  '            name_len += 1\\n': {},\n",
       "  '            last_len += 1\\n': {}},\n",
       " '            if int(age) in range (15, 67):\\n': {'                item = (name, lastname, age)\\n': {},\n",
       "  '                out.append(item)\\n': {}},\n",
       " \"            name, lastname, age = line.split('-*ŋ*-')\\n\": {'                item = (name, lastname, age)\\n': {},\n",
       "  '                out.append(item)\\n': {}},\n",
       " 'def aver_(out):\\n': {'    out2 = []\\n': {},\n",
       "  '    for cort in out:\\n': {},\n",
       "  '        name = cort[0]\\n': {},\n",
       "  '        last = cort[1]\\n': {},\n",
       "  '        age = cort[2]\\n': {},\n",
       "  '        name_len = 0\\n': {},\n",
       "  '        last_len = 0\\n': {},\n",
       "  '        for i in name:\\n': {},\n",
       "  '            name_len += 1\\n': {},\n",
       "  '        for i in last:\\n': {},\n",
       "  '            last_len += 1\\n': {},\n",
       "  '        aver = (name_len + last_len) / 2\\n': {},\n",
       "  '        item2 = (aver, name, last, age)\\n': {},\n",
       "  '        out2.append(item2)\\n': {},\n",
       "  '    return out2\\n': {},\n",
       "  \"    filename = 'names ages.txt'\\n\": {},\n",
       "  '    rez1 = selecting(filename)\\n': {},\n",
       "  '    print(rez1)\\n': {},\n",
       "  '    rez2 = aver_(rez1)\\n': {},\n",
       "  '    print(rez2)\\n': {},\n",
       "  '    main()\\n': {}},\n",
       " '    for cort in out:\\n': {'        name = cort[0]\\n': {},\n",
       "  '        last = cort[1]\\n': {},\n",
       "  '        age = cort[2]\\n': {},\n",
       "  '        name_len = 0\\n': {},\n",
       "  '        last_len = 0\\n': {},\n",
       "  '        for i in name:\\n': {},\n",
       "  '            name_len += 1\\n': {},\n",
       "  '        for i in last:\\n': {},\n",
       "  '            last_len += 1\\n': {},\n",
       "  '        aver = (name_len + last_len) / 2\\n': {},\n",
       "  '        item2 = (aver, name, last, age)\\n': {},\n",
       "  '        out2.append(item2)\\n': {}},\n",
       " '    out2 = []\\n': {'        name = cort[0]\\n': {},\n",
       "  '        last = cort[1]\\n': {},\n",
       "  '        age = cort[2]\\n': {},\n",
       "  '        name_len = 0\\n': {},\n",
       "  '        last_len = 0\\n': {},\n",
       "  '        for i in name:\\n': {},\n",
       "  '            name_len += 1\\n': {},\n",
       "  '        for i in last:\\n': {},\n",
       "  '            last_len += 1\\n': {},\n",
       "  '        aver = (name_len + last_len) / 2\\n': {},\n",
       "  '        item2 = (aver, name, last, age)\\n': {},\n",
       "  '        out2.append(item2)\\n': {}},\n",
       " '        for i in name:\\n': {'            name_len += 1\\n': {},\n",
       "  '            last_len += 1\\n': {}},\n",
       " '        last_len = 0\\n': {'            name_len += 1\\n': {},\n",
       "  '            last_len += 1\\n': {}},\n",
       " '        name_len = 0\\n': {'            name_len += 1\\n': {},\n",
       "  '            last_len += 1\\n': {}},\n",
       " '        age = cort[2]\\n': {'            name_len += 1\\n': {},\n",
       "  '            last_len += 1\\n': {}},\n",
       " '        last = cort[1]\\n': {'            name_len += 1\\n': {},\n",
       "  '            last_len += 1\\n': {}},\n",
       " '        name = cort[0]\\n': {'            name_len += 1\\n': {},\n",
       "  '            last_len += 1\\n': {}},\n",
       " '        return out\\n': {'            name_len += 1\\n': {},\n",
       "  '            last_len += 1\\n': {}},\n",
       " '        for i in last:\\n': {'            last_len += 1\\n': {}},\n",
       " 'def main():\\n': {\"    filename = 'names ages.txt'\\n\": {},\n",
       "  '    rez1 = selecting(filename)\\n': {},\n",
       "  '    print(rez1)\\n': {},\n",
       "  '    rez2 = aver_(rez1)\\n': {},\n",
       "  '    print(rez2)\\n': {},\n",
       "  '    main()\\n': {}},\n",
       " \"if __name__ == '__main__':\\n\": {'    main()\\n': {}}}"
      ]
     },
     "execution_count": 130,
     "metadata": {},
     "output_type": "execute_result"
    }
   ],
   "source": [
    "make_tree(line_list, {})"
   ]
  },
  {
   "cell_type": "code",
   "execution_count": null,
   "metadata": {},
   "outputs": [],
   "source": []
  }
 ],
 "metadata": {
  "kernelspec": {
   "display_name": "Python 3",
   "language": "python",
   "name": "python3"
  },
  "language_info": {
   "codemirror_mode": {
    "name": "ipython",
    "version": 3
   },
   "file_extension": ".py",
   "mimetype": "text/x-python",
   "name": "python",
   "nbconvert_exporter": "python",
   "pygments_lexer": "ipython3",
   "version": "3.8.3"
  }
 },
 "nbformat": 4,
 "nbformat_minor": 4
}
